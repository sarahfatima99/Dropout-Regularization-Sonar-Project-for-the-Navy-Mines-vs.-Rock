{
 "cells": [
  {
   "cell_type": "code",
   "execution_count": null,
   "metadata": {},
   "outputs": [],
   "source": [
    "import numpy as np\n",
    "from pandas import read_csv\n",
    "from keras.models import Sequential\n",
    "from keras.layers import Dense \n",
    "from keras.layers import Dropout\n",
    "from keras.wrappers.scikit_learn import KerasClassifier\n",
    "from keras.constraints import maxnorm\n",
    "from keras.optimizers import SGD\n",
    "from sklearn.model_selection import cross_val_score\n",
    "from sklearn.preprocessing import LabelEncoder \n",
    "from sklearn.model_selection import StratifiedKFold\n",
    "from sklearn.preprocessing import StandardScaler\n",
    "from sklearn.pipeline import Pipeline\n",
    "from keras.constraints import max_norm"
   ]
  },
  {
   "cell_type": "code",
   "execution_count": null,
   "metadata": {},
   "outputs": [],
   "source": [
    "seed=7\n",
    "np.random.seed(seed)\n",
    "dataframe=read_csv(\"sonar.csv\",header=None)\n",
    "dataset=dataframe.values\n",
    "x=dataset[:,0:60].astype(float)\n",
    "y=dataset[:,60]\n",
    "encoder=LabelEncoder()\n",
    "encoder.fit(y)\n",
    "encodedy=encoder.transform(y)"
   ]
  },
  {
   "cell_type": "code",
   "execution_count": 9,
   "metadata": {
    "scrolled": true
   },
   "outputs": [
    {
     "name": "stdout",
     "output_type": "stream",
     "text": [
      "BASELINE:0.82%(0.07%)\n"
     ]
    }
   ],
   "source": [
    "def build_model():\n",
    "    model=Sequential()\n",
    "    model.add(Dense(60,input_dim=60,kernel_initializer='normal',activation='relu'))\n",
    "    model.add(Dense(30,kernel_initializer='normal',activation='relu'))\n",
    "    model.add(Dense(1,kernel_initializer='normal',activation='sigmoid'))\n",
    "    sgd=SGD(lr=0.01,momentum=0.8,decay=0.0,nesterov=False)\n",
    "    model.compile(loss='binary_crossentropy',optimizer=sgd,metrics=['accuracy'])\n",
    "    return model\n",
    "np.random.seed(seed)\n",
    "estimators=[]\n",
    "estimators.append(('standardize',StandardScaler()))\n",
    "estimators.append(('mlp',KerasClassifier(build_fn=build_model,epochs=300,batch_size=16,verbose=0)))\n",
    "pipeline=Pipeline(estimators)\n",
    "\n",
    "kfold=StratifiedKFold(n_splits=10,shuffle=True,random_state=seed)\n",
    "result=cross_val_score(pipeline,x,encodedy,cv=kfold)\n",
    "print(\"BASELINE:%.2f%%(%.2f%%)\"%(result.mean(),result.std()))"
   ]
  },
  {
   "cell_type": "code",
   "execution_count": 12,
   "metadata": {},
   "outputs": [
    {
     "name": "stdout",
     "output_type": "stream",
     "text": [
      "visible:0.84%(0.05%)\n"
     ]
    }
   ],
   "source": [
    "def build_model():\n",
    "    model=Sequential()\n",
    "    model.add(Dense(60,input_dim=60,kernel_initializer='normal',kernel_constraint=max_norm(3.),activation='relu'))\n",
    "    model.add(Dropout(0.2))\n",
    "    model.add(Dense(30,kernel_initializer='normal',kernel_constraint=max_norm(3.),activation='relu'))\n",
    "    model.add(Dense(1,kernel_initializer='normal',kernel_constraint=max_norm(3.),activation='sigmoid'))\n",
    "    sgd=SGD(lr=0.1,momentum=0.9,decay=0.0,nesterov=False)\n",
    "    model.compile(loss='binary_crossentropy',optimizer=sgd,metrics=['accuracy'])\n",
    "    return model\n",
    "np.random.seed(seed)\n",
    "estimators=[]\n",
    "estimators.append(('standardize',StandardScaler()))\n",
    "estimators.append(('mlp',KerasClassifier(build_fn=build_model,epochs=300,batch_size=16,verbose=0)))\n",
    "pipeline=Pipeline(estimators)\n",
    "kfold=StratifiedKFold(n_splits=10,shuffle=True,random_state=seed)\n",
    "result=cross_val_score(pipeline,x,encodedy,cv=kfold)\n",
    "print(\"visible:%.2f%%(%.2f%%)\"%(result.mean(),result.std()))"
   ]
  },
  {
   "cell_type": "markdown",
   "metadata": {},
   "source": [
    "# TUNNING THE MODEL"
   ]
  },
  {
   "cell_type": "code",
   "execution_count": 6,
   "metadata": {},
   "outputs": [
    {
     "name": "stdout",
     "output_type": "stream",
     "text": [
      "visible:0.78%(0.07%)\n",
      "visible:0.85%(0.08%)\n",
      "visible:0.84%(0.07%)\n"
     ]
    }
   ],
   "source": [
    "def build_model():\n",
    "    model=Sequential()\n",
    "    model.add(Dense(65,input_dim=60,kernel_initializer='normal',kernel_constraint=max_norm(3.),activation='relu'))\n",
    "    model.add(Dropout(0.2))\n",
    "    model.add(Dense(34,kernel_initializer='normal',kernel_constraint=max_norm(3.),activation='relu'))\n",
    "    model.add(Dense(1,kernel_initializer='normal',kernel_constraint=max_norm(3.),activation='sigmoid'))\n",
    "    sgd=SGD(lr=0.1,momentum=0.9,decay=0.0,nesterov=False)\n",
    "    model.compile(loss='binary_crossentropy',optimizer=sgd,metrics=['accuracy'])\n",
    "    return model\n",
    "np.random.seed(seed)\n",
    "estimators=[]\n",
    "estimators.append(('standardize',StandardScaler()))\n",
    "estimators.append(('mlp',KerasClassifier(build_fn=build_model,epochs=20,batch_size=16,verbose=0)))\n",
    "pipeline=Pipeline(estimators)\n",
    "kfold=StratifiedKFold(n_splits=10,shuffle=True,random_state=seed)\n",
    "result=cross_val_score(pipeline,x,encodedy,cv=kfold)\n",
    "print(\"visible:%.2f%%(%.2f%%)\"%(result.mean(),result.std()))\n",
    "def build_model():\n",
    "    model=Sequential()\n",
    "    model.add(Dense(1260,input_dim=60,kernel_initializer='normal',kernel_constraint=max_norm(3.),activation='relu'))\n",
    "    model.add(Dropout(0.2))\n",
    "    model.add(Dense(350,kernel_initializer='normal',kernel_constraint=max_norm(3.),activation='relu'))\n",
    "    model.add(Dense(1,kernel_initializer='normal',kernel_constraint=max_norm(3.),activation='sigmoid'))\n",
    "    sgd=SGD(lr=0.1,momentum=0.9,decay=0.0,nesterov=False)\n",
    "    model.compile(loss='binary_crossentropy',optimizer=sgd,metrics=['accuracy'])\n",
    "    return model\n",
    "np.random.seed(seed)\n",
    "estimators=[]\n",
    "estimators.append(('standardize',StandardScaler()))\n",
    "estimators.append(('mlp',KerasClassifier(build_fn=build_model,epochs=500,batch_size=16,verbose=0)))\n",
    "pipeline=Pipeline(estimators)\n",
    "kfold=StratifiedKFold(n_splits=10,shuffle=True,random_state=seed)\n",
    "result=cross_val_score(pipeline,x,encodedy,cv=kfold)\n",
    "print(\"visible:%.2f%%(%.2f%%)\"%(result.mean(),result.std()))\n",
    "def build_model():\n",
    "    model=Sequential()\n",
    "    model.add(Dense(40,input_dim=60,kernel_initializer='normal',kernel_constraint=max_norm(3.),activation='relu'))\n",
    "    model.add(Dropout(0.2))\n",
    "    model.add(Dense(50,kernel_initializer='normal',kernel_constraint=max_norm(3.),activation='relu'))\n",
    "    model.add(Dense(1,kernel_initializer='normal',kernel_constraint=max_norm(3.),activation='sigmoid'))\n",
    "    sgd=SGD(lr=0.1,momentum=0.9,decay=0.0,nesterov=False)\n",
    "    model.compile(loss='binary_crossentropy',optimizer=sgd,metrics=['accuracy'])\n",
    "    return model\n",
    "np.random.seed(seed)\n",
    "estimators=[]\n",
    "estimators.append(('standardize',StandardScaler()))\n",
    "estimators.append(('mlp',KerasClassifier(build_fn=build_model,epochs=300,batch_size=16,verbose=0)))\n",
    "pipeline=Pipeline(estimators)\n",
    "kfold=StratifiedKFold(n_splits=10,shuffle=True,random_state=seed)\n",
    "result=cross_val_score(pipeline,x,encodedy,cv=kfold)\n",
    "print(\"visible:%.2f%%(%.2f%%)\"%(result.mean(),result.std()))"
   ]
  },
  {
   "cell_type": "markdown",
   "metadata": {},
   "source": [
    "# HIDDEN LAYERS "
   ]
  },
  {
   "cell_type": "code",
   "execution_count": 10,
   "metadata": {},
   "outputs": [
    {
     "name": "stdout",
     "output_type": "stream",
     "text": [
      "HIDDEN:0.82%(0.07%)\n"
     ]
    }
   ],
   "source": [
    "def build_model():\n",
    "    model=Sequential()\n",
    "    model.add(Dense(60,input_dim=60,kernel_initializer='normal',kernel_constraint=max_norm(3.),activation='relu'))\n",
    "    model.add(Dense(30,kernel_initializer='normal',kernel_constraint=max_norm(3.),activation='relu'))\n",
    "    model.add(Dropout(0.2))\n",
    "    model.add(Dense(30,kernel_initializer='normal',kernel_constraint=max_norm(3.),activation='relu'))\n",
    "    model.add(Dropout(0.2))\n",
    "    model.add(Dense(1,kernel_initializer='normal',kernel_constraint=max_norm(3.),activation='sigmoid'))\n",
    "    sgd=SGD(lr=0.1,momentum=0.9,decay=0.0,nesterov=False)\n",
    "    model.compile(loss='binary_crossentropy',optimizer=sgd,metrics=['accuracy'])\n",
    "    return model\n",
    "np.random.seed(seed)\n",
    "estimators=[]\n",
    "estimators.append(('standardize',StandardScaler()))\n",
    "estimators.append(('mlp',KerasClassifier(build_fn=build_model,epochs=300,batch_size=16,verbose=0)))\n",
    "pipeline=Pipeline(estimators)\n",
    "kfold=StratifiedKFold(n_splits=10,shuffle=True,random_state=seed)\n",
    "result=cross_val_score(pipeline,x,encodedy,cv=kfold)\n",
    "print(\"HIDDEN:%.2f%%(%.2f%%)\"%(result.mean(),result.std()))"
   ]
  },
  {
   "cell_type": "markdown",
   "metadata": {},
   "source": [
    "# TUNNIG FOR HIDDEN LAYERS"
   ]
  },
  {
   "cell_type": "code",
   "execution_count": null,
   "metadata": {},
   "outputs": [],
   "source": [
    "def build_model():\n",
    "    model=Sequential()\n",
    "    model.add(Dense(50,input_dim=60,kernel_initializer='normal',kernel_constraint=max_norm(3.),activation='relu'))\n",
    "    model.add(Dense(40,kernel_initializer='normal',kernel_constraint=max_norm(3.),activation='relu'))\n",
    "    model.add(Dropout(0.2))\n",
    "    model.add(Dense(80,kernel_initializer='normal',kernel_constraint=max_norm(3.),activation='relu'))\n",
    "    model.add(Dropout(0.2))\n",
    "    model.add(Dense(1,kernel_initializer='normal',kernel_constraint=max_norm(3.),activation='sigmoid'))\n",
    "    sgd=SGD(lr=0.1,momentum=0.9,decay=0.0,nesterov=False)\n",
    "    model.compile(loss='binary_crossentropy',optimizer=sgd,metrics=['accuracy'])\n",
    "    return model\n",
    "np.random.seed(seed)\n",
    "estimators=[]\n",
    "estimators.append(('standardize',StandardScaler()))\n",
    "estimators.append(('mlp',KerasClassifier(build_fn=build_model,epochs=500,batch_size=16,verbose=0)))\n",
    "pipeline=Pipeline(estimators)\n",
    "kfold=StratifiedKFold(n_splits=10,shuffle=True,random_state=seed)\n",
    "result=cross_val_score(pipeline,x,encodedy,cv=kfold)\n",
    "print(\"HIDDEN:%.2f%%(%.2f%%)\"%(result.mean(),result.std()))\n",
    "def build_model():\n",
    "    model=Sequential()\n",
    "    model.add(Dense(60,input_dim=60,kernel_initializer='normal',kernel_constraint=max_norm(3.),activation='relu'))\n",
    "    model.add(Dense(10,kernel_initializer='normal',kernel_constraint=max_norm(3.),activation='relu'))\n",
    "    model.add(Dropout(0.2))\n",
    "    model.add(Dense(20,kernel_initializer='normal',kernel_constraint=max_norm(3.),activation='relu'))\n",
    "    model.add(Dropout(0.2))\n",
    "    model.add(Dense(1,kernel_initializer='normal',kernel_constraint=max_norm(3.),activation='sigmoid'))\n",
    "    sgd=SGD(lr=0.01,momentum=0.8,decay=0.0,nesterov=False)\n",
    "    model.compile(loss='binary_crossentropy',optimizer=sgd,metrics=['accuracy'])\n",
    "    return model\n",
    "np.random.seed(seed)\n",
    "estimators=[]\n",
    "estimators.append(('standardize',StandardScaler()))\n",
    "estimators.append(('mlp',KerasClassifier(build_fn=build_model,epochs=400,batch_size=16,verbose=0)))\n",
    "pipeline=Pipeline(estimators)\n",
    "kfold=StratifiedKFold(n_splits=10,shuffle=True,random_state=seed)\n",
    "result=cross_val_score(pipeline,x,encodedy,cv=kfold)\n",
    "print(\"HIDDEN:%.2f%%(%.2f%%)\"%(result.mean(),result.std()))\n",
    "def build_model():\n",
    "    model=Sequential()\n",
    "    model.add(Dense(20,input_dim=60,kernel_initializer='normal',kernel_constraint=max_norm(3.),activation='relu'))\n",
    "    model.add(Dense(10,kernel_initializer='normal',kernel_constraint=max_norm(3.),activation='relu'))\n",
    "    model.add(Dropout(0.2))\n",
    "    model.add(Dense(5,kernel_initializer='normal',kernel_constraint=max_norm(3.),activation='relu'))\n",
    "    model.add(Dropout(0.2))\n",
    "    model.add(Dense(1,kernel_initializer='normal',kernel_constraint=max_norm(3.),activation='sigmoid'))\n",
    "    sgd=SGD(lr=0.1,momentum=0.9,decay=0.0,nesterov=False)\n",
    "    model.compile(loss='binary_crossentropy',optimizer=sgd,metrics=['accuracy'])\n",
    "    return model\n",
    "np.random.seed(seed)\n",
    "estimators=[]\n",
    "estimators.append(('standardize',StandardScaler()))\n",
    "estimators.append(('mlp',KerasClassifier(build_fn=build_model,epochs=600,batch_size=16,verbose=0)))\n",
    "pipeline=Pipeline(estimators)\n",
    "kfold=StratifiedKFold(n_splits=10,shuffle=True,random_state=seed)\n",
    "result=cross_val_score(pipeline,x,encodedy,cv=kfold)\n",
    "print(\"HIDDEN:%.2f%%(%.2f%%)\"%(result.mean(),result.std()))"
   ]
  },
  {
   "cell_type": "markdown",
   "metadata": {},
   "source": [
    "# 8.1"
   ]
  },
  {
   "cell_type": "code",
   "execution_count": null,
   "metadata": {},
   "outputs": [],
   "source": [
    "def build_model():\n",
    "    model=Sequential()\n",
    "    model.add(Dense(60,input_dim=60,kernel_initializer='normal',kernel_constraint=max_norm(3.),activation='relu'))\n",
    "    model.add(Dropout(0.3))\n",
    "    model.add(Dense(30,kernel_initializer='normal',kernel_constraint=max_norm(3.),activation='relu'))\n",
    "    model.add(Dense(1,kernel_initializer='normal',kernel_constraint=max_norm(3.),activation='sigmoid'))\n",
    "    sgd=SGD(lr=0.01,momentum=0.8,decay=0.0,nesterov=False)\n",
    "    model.compile(loss='binary_crossentropy',optimizer=sgd,metrics=['accuracy'])\n",
    "    return model\n",
    "np.random.seed(seed)\n",
    "estimators=[]\n",
    "estimators.append(('standardize',StandardScaler()))\n",
    "estimators.append(('mlp',KerasClassifier(build_fn=build_model,epochs=20,batch_size=16,verbose=0)))\n",
    "pipeline=Pipeline(estimators)\n",
    "kfold=StratifiedKFold(n_splits=10,shuffle=True,random_state=seed)\n",
    "result=cross_val_score(pipeline,x,encodedy,cv=kfold)\n",
    "print(\"visible:%.2f%%(%.2f%%)\"%(result.mean(),result.std()))\n",
    "def build_model():\n",
    "    model=Sequential()\n",
    "    model.add(Dense(60,input_dim=60,kernel_initializer='normal',kernel_constraint=max_norm(3.),activation='relu'))\n",
    "    model.add(Dropout(0.4))\n",
    "    model.add(Dense(30,kernel_initializer='normal',kernel_constraint=max_norm(3.),activation='relu'))\n",
    "    model.add(Dense(1,kernel_initializer='normal',kernel_constraint=max_norm(3.),activation='sigmoid'))\n",
    "    sgd=SGD(lr=0.01,momentum=0.8,decay=0.0,nesterov=False)\n",
    "    model.compile(loss='binary_crossentropy',optimizer=sgd,metrics=['accuracy'])\n",
    "    return model\n",
    "np.random.seed(seed)\n",
    "estimators=[]\n",
    "estimators.append(('standardize',StandardScaler()))\n",
    "estimators.append(('mlp',KerasClassifier(build_fn=build_model,epochs=500,batch_size=16,verbose=0)))\n",
    "pipeline=Pipeline(estimators)\n",
    "kfold=StratifiedKFold(n_splits=10,shuffle=True,random_state=seed)\n",
    "result=cross_val_score(pipeline,x,encodedy,cv=kfold)\n",
    "print(\"visible:%.2f%%(%.2f%%)\"%(result.mean(),result.std()))\n",
    "def build_model():\n",
    "    model=Sequential()\n",
    "    model.add(Dense(60,input_dim=60,kernel_initializer='normal',kernel_constraint=max_norm(3.),activation='relu'))\n",
    "    model.add(Dropout(0.5))\n",
    "    model.add(Dense(30,kernel_initializer='normal',kernel_constraint=max_norm(3.),activation='relu'))\n",
    "    model.add(Dense(1,kernel_initializer='normal',kernel_constraint=max_norm(3.),activation='sigmoid'))\n",
    "    sgd=SGD(lr=0.01,momentum=0.8,decay=0.0,nesterov=False)\n",
    "    model.compile(loss='binary_crossentropy',optimizer=sgd,metrics=['accuracy'])\n",
    "    return model\n",
    "np.random.seed(seed)\n",
    "estimators=[]\n",
    "estimators.append(('standardize',StandardScaler()))\n",
    "estimators.append(('mlp',KerasClassifier(build_fn=build_model,epochs=300,batch_size=16,verbose=0)))\n",
    "pipeline=Pipeline(estimators)\n",
    "kfold=StratifiedKFold(n_splits=10,shuffle=True,random_state=seed)\n",
    "result=cross_val_score(pipeline,x,encodedy,cv=kfold)\n",
    "print(\"visible:%.2f%%(%.2f%%)\"%(result.mean(),result.std()))"
   ]
  },
  {
   "cell_type": "markdown",
   "metadata": {},
   "source": [
    "# 8.2"
   ]
  },
  {
   "cell_type": "code",
   "execution_count": null,
   "metadata": {},
   "outputs": [],
   "source": [
    "def build_model():\n",
    "    model=Sequential()\n",
    "    model.add(Dense(650,input_dim=60,kernel_initializer='normal',kernel_constraint=max_norm(3.),activation='relu'))\n",
    "    model.add(Dropout(0.3))\n",
    "    model.add(Dense(90,kernel_initializer='normal',kernel_constraint=max_norm(3.),activation='relu'))\n",
    "    model.add(Dense(100,kernel_initializer='normal',kernel_constraint=max_norm(3.),activation='relu'))\n",
    "    model.add(Dense(95,kernel_initializer='normal',kernel_constraint=max_norm(3.),activation='relu'))\n",
    "    model.add(Dense(1,kernel_initializer='normal',kernel_constraint=max_norm(3.),activation='sigmoid'))\n",
    "    sgd=SGD(lr=0.01,momentum=0.8,decay=0.0,nesterov=False)\n",
    "    model.compile(loss='binary_crossentropy',optimizer=sgd,metrics=['accuracy'])\n",
    "    return model\n",
    "np.random.seed(seed)\n",
    "estimators=[]\n",
    "estimators.append(('standardize',StandardScaler()))\n",
    "estimators.append(('mlp',KerasClassifier(build_fn=build_model,epochs=20,batch_size=16,verbose=0)))\n",
    "pipeline=Pipeline(estimators)\n",
    "kfold=StratifiedKFold(n_splits=10,shuffle=True,random_state=seed)\n",
    "result=cross_val_score(pipeline,x,encodedy,cv=kfold)\n",
    "print(\"visible:%.2f%%(%.2f%%)\"%(result.mean(),result.std()))\n",
    "def build_model():\n",
    "    model=Sequential()\n",
    "    model.add(Dense(60,input_dim=60,kernel_initializer='normal',kernel_constraint=max_norm(3.),activation='relu'))\n",
    "    model.add(Dropout(0.5))\n",
    "    model.add(Dense(300,kernel_initializer='normal',kernel_constraint=max_norm(3.),activation='relu'))\n",
    "    model.add(Dense(100,kernel_initializer='normal',kernel_constraint=max_norm(3.),activation='relu'))\n",
    "    model.add(Dense(35,kernel_initializer='normal',kernel_constraint=max_norm(3.),activation='relu'))\n",
    "    model.add(Dense(1,kernel_initializer='normal',kernel_constraint=max_norm(3.),activation='sigmoid'))\n",
    "    sgd=SGD(lr=0.01,momentum=0.8,decay=0.0,nesterov=False)\n",
    "    model.compile(loss='binary_crossentropy',optimizer=sgd,metrics=['accuracy'])\n",
    "    return model\n",
    "np.random.seed(seed)\n",
    "estimators=[]\n",
    "estimators.append(('standardize',StandardScaler()))\n",
    "estimators.append(('mlp',KerasClassifier(build_fn=build_model,epochs=500,batch_size=16,verbose=0)))\n",
    "pipeline=Pipeline(estimators)\n",
    "kfold=StratifiedKFold(n_splits=10,shuffle=True,random_state=seed)\n",
    "result=cross_val_score(pipeline,x,encodedy,cv=kfold)\n",
    "print(\"visible:%.2f%%(%.2f%%)\"%(result.mean(),result.std()))\n",
    "def build_model():\n",
    "    model=Sequential()\n",
    "    model.add(Dense(290,input_dim=60,kernel_initializer='normal',kernel_constraint=max_norm(3.),activation='relu'))\n",
    "    model.add(Dropout(0.5))\n",
    "    model.add(Dense(50,kernel_initializer='normal',kernel_constraint=max_norm(3.),activation='relu'))\n",
    "    model.add(Dense(150,kernel_initializer='normal',kernel_constraint=max_norm(3.),activation='relu'))\n",
    "    model.add(Dense(280,kernel_initializer='normal',kernel_constraint=max_norm(3.),activation='relu'))\n",
    "    model.add(Dense(1,kernel_initializer='normal',kernel_constraint=max_norm(3.),activation='sigmoid'))\n",
    "    sgd=SGD(lr=0.01,momentum=0.8,decay=0.0,nesterov=False)\n",
    "    model.compile(loss='binary_crossentropy',optimizer=sgd,metrics=['accuracy'])\n",
    "    return model\n",
    "np.random.seed(seed)\n",
    "estimators=[]\n",
    "estimators.append(('standardize',StandardScaler()))\n",
    "estimators.append(('mlp',KerasClassifier(build_fn=build_model,epochs=300,batch_size=16,verbose=0)))\n",
    "pipeline=Pipeline(estimators)\n",
    "kfold=StratifiedKFold(n_splits=10,shuffle=True,random_state=seed)\n",
    "result=cross_val_score(pipeline,x,encodedy,cv=kfold)\n",
    "print(\"visible:%.2f%%(%.2f%%)\"%(result.mean(),result.std()))"
   ]
  },
  {
   "cell_type": "markdown",
   "metadata": {},
   "source": [
    "# 8.3"
   ]
  },
  {
   "cell_type": "code",
   "execution_count": 11,
   "metadata": {},
   "outputs": [
    {
     "name": "stdout",
     "output_type": "stream",
     "text": [
      "HIDDEN:0.85%(0.07%)\n"
     ]
    }
   ],
   "source": [
    "def build_model():\n",
    "    model=Sequential()\n",
    "    model.add(Dense(60,input_dim=60,kernel_initializer='normal',kernel_constraint=max_norm(3.),activation='relu'))\n",
    "    model.add(Dropout(0.2))\n",
    "    model.add(Dense(30,kernel_initializer='normal',kernel_constraint=max_norm(3.),activation='relu'))\n",
    "    model.add(Dropout(0.2))\n",
    "    model.add(Dense(30,kernel_initializer='normal',kernel_constraint=max_norm(3.),activation='relu'))\n",
    "    model.add(Dropout(0.2))\n",
    "    model.add(Dense(1,kernel_initializer='normal',kernel_constraint=max_norm(3.),activation='sigmoid'))\n",
    "    sgd=SGD(lr=0.01,momentum=0.8,decay=0.0,nesterov=False)\n",
    "    model.compile(loss='binary_crossentropy',optimizer=sgd,metrics=['accuracy'])\n",
    "    return model\n",
    "np.random.seed(seed)\n",
    "estimators=[]\n",
    "estimators.append(('standardize',StandardScaler()))\n",
    "estimators.append(('mlp',KerasClassifier(build_fn=build_model,epochs=300,batch_size=16,verbose=0)))\n",
    "pipeline=Pipeline(estimators)\n",
    "kfold=StratifiedKFold(n_splits=10,shuffle=True,random_state=seed)\n",
    "result=cross_val_score(pipeline,x,encodedy,cv=kfold)\n",
    "print(\"HIDDEN:%.2f%%(%.2f%%)\"%(result.mean(),result.std()))"
   ]
  },
  {
   "cell_type": "markdown",
   "metadata": {},
   "source": [
    "# 8.4"
   ]
  },
  {
   "cell_type": "code",
   "execution_count": null,
   "metadata": {},
   "outputs": [],
   "source": [
    "def build_model():\n",
    "    model=Sequential()\n",
    "    model.add(Dense(60,input_dim=60,kernel_initializer='normal',kernel_constraint=max_norm(3.),activation='relu'))\n",
    "    model.add(Dropout(0.2))\n",
    "    model.add(Dense(30,kernel_initializer='normal',kernel_constraint=max_norm(3.),activation='relu'))\n",
    "    model.add(Dense(1,kernel_initializer='normal',kernel_constraint=max_norm(3.),activation='sigmoid'))\n",
    "    sgd=SGD(lr=0.1,momentum=0.99,decay=0.0,nesterov=False)\n",
    "    model.compile(loss='binary_crossentropy',optimizer=sgd,metrics=['accuracy'])\n",
    "    return model\n",
    "np.random.seed(seed)\n",
    "estimators=[]\n",
    "estimators.append(('standardize',StandardScaler()))\n",
    "estimators.append(('mlp',KerasClassifier(build_fn=build_model,epochs=300,batch_size=16,verbose=0)))\n",
    "pipeline=Pipeline(estimators)\n",
    "kfold=StratifiedKFold(n_splits=10,shuffle=True,random_state=seed)\n",
    "result=cross_val_score(pipeline,x,encodedy,cv=kfold)\n",
    "print(\"visible:%.2f%%(%.2f%%)\"%(result.mean(),result.std()))"
   ]
  },
  {
   "cell_type": "markdown",
   "metadata": {},
   "source": [
    "# 8.5"
   ]
  },
  {
   "cell_type": "code",
   "execution_count": 13,
   "metadata": {},
   "outputs": [
    {
     "name": "stdout",
     "output_type": "stream",
     "text": [
      "visible:0.71%(0.14%)\n",
      "visible:0.52%(0.03%)\n"
     ]
    }
   ],
   "source": [
    "def build_model():\n",
    "    model=Sequential()\n",
    "    model.add(Dense(60,input_dim=60,kernel_initializer='normal',kernel_constraint=max_norm(4.),activation='relu'))\n",
    "    model.add(Dropout(0.2))\n",
    "    model.add(Dense(30,kernel_initializer='normal',kernel_constraint=max_norm(4.),activation='relu'))\n",
    "    model.add(Dense(1,kernel_initializer='normal',kernel_constraint=max_norm(4.),activation='sigmoid'))\n",
    "    sgd=SGD(lr=0.1,momentum=0.99,decay=0.0,nesterov=False)\n",
    "    model.compile(loss='binary_crossentropy',optimizer=sgd,metrics=['accuracy'])\n",
    "    return model\n",
    "np.random.seed(seed)\n",
    "estimators=[]\n",
    "estimators.append(('standardize',StandardScaler()))\n",
    "estimators.append(('mlp',KerasClassifier(build_fn=build_model,epochs=300,batch_size=16,verbose=0)))\n",
    "pipeline=Pipeline(estimators)\n",
    "kfold=StratifiedKFold(n_splits=10,shuffle=True,random_state=seed)\n",
    "result=cross_val_score(pipeline,x,encodedy,cv=kfold)\n",
    "print(\"visible:%.2f%%(%.2f%%)\"%(result.mean(),result.std()))\n",
    "def build_model():\n",
    "    model=Sequential()\n",
    "    model.add(Dense(60,input_dim=60,kernel_initializer='normal',kernel_constraint=max_norm(5.),activation='relu'))\n",
    "    model.add(Dropout(0.2))\n",
    "    model.add(Dense(30,kernel_initializer='normal',kernel_constraint=max_norm(5.),activation='relu'))\n",
    "    model.add(Dense(1,kernel_initializer='normal',kernel_constraint=max_norm(5.),activation='sigmoid'))\n",
    "    sgd=SGD(lr=0.1,momentum=0.99,decay=0.0,nesterov=False)\n",
    "    model.compile(loss='binary_crossentropy',optimizer=sgd,metrics=['accuracy'])\n",
    "    return model\n",
    "np.random.seed(seed)\n",
    "estimators=[]\n",
    "estimators.append(('standardize',StandardScaler()))\n",
    "estimators.append(('mlp',KerasClassifier(build_fn=build_model,epochs=300,batch_size=16,verbose=0)))\n",
    "pipeline=Pipeline(estimators)\n",
    "kfold=StratifiedKFold(n_splits=10,shuffle=True,random_state=seed)\n",
    "result=cross_val_score(pipeline,x,encodedy,cv=kfold)\n",
    "print(\"visible:%.2f%%(%.2f%%)\"%(result.mean(),result.std()))"
   ]
  },
  {
   "cell_type": "code",
   "execution_count": null,
   "metadata": {},
   "outputs": [],
   "source": []
  }
 ],
 "metadata": {
  "kernelspec": {
   "display_name": "Python 3",
   "language": "python",
   "name": "python3"
  },
  "language_info": {
   "codemirror_mode": {
    "name": "ipython",
    "version": 3
   },
   "file_extension": ".py",
   "mimetype": "text/x-python",
   "name": "python",
   "nbconvert_exporter": "python",
   "pygments_lexer": "ipython3",
   "version": "3.7.1"
  }
 },
 "nbformat": 4,
 "nbformat_minor": 2
}
